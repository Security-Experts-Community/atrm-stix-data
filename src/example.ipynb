{
 "cells": [
  {
   "cell_type": "code",
   "execution_count": 1,
   "metadata": {},
   "outputs": [],
   "source": [
    "from constants import Mode, GET_ATRM_SOURCE\n",
    "path = \"../build/atrm_attack_compatible.json\"\n",
    "\n",
    "source = GET_ATRM_SOURCE(mode=Mode.attack_compatible)\n",
    "def get_technique_id(technique):\n",
    "    return [r for r in technique.external_references if r.source_name == source][0].external_id"
   ]
  },
  {
   "cell_type": "markdown",
   "metadata": {},
   "source": [
    "# Get all ATRM tactics "
   ]
  },
  {
   "cell_type": "code",
   "execution_count": 2,
   "metadata": {},
   "outputs": [
    {
     "name": "stdout",
     "output_type": "stream",
     "text": [
      "Retrieved 7 ATRM tactics:\n",
      "- [AZTA100] Reconnaissance\n",
      "- [AZTA200] Initial Access\n",
      "- [AZTA300] Execution\n",
      "- [AZTA400] Privilege Escalation\n",
      "- [AZTA500] Persistence\n",
      "- [AZTA600] Credential Access\n",
      "- [AZTA700] Impact\n"
     ]
    }
   ],
   "source": [
    "from mitreattack.stix20 import MitreAttackData\n",
    "from constants import GET_ATRM_SOURCE\n",
    "\n",
    "\n",
    "mitre_attack_data = MitreAttackData(path)\n",
    "tactics = mitre_attack_data.get_tactics(remove_revoked_deprecated=True)\n",
    "print(f\"Retrieved {len(tactics)} ATRM tactics:\")\n",
    "for technique in tactics:\n",
    "    id = get_technique_id(technique)\n",
    "    print(f\"- [{id}] {technique.name}\")\n",
    "\n"
   ]
  },
  {
   "cell_type": "markdown",
   "metadata": {},
   "source": [
    "\n",
    "# Get all ATRM techniques"
   ]
  },
  {
   "cell_type": "code",
   "execution_count": 3,
   "metadata": {},
   "outputs": [
    {
     "name": "stdout",
     "output_type": "stream",
     "text": [
      "Retrieved 98 ATRM techniques.\n",
      "-  [AZT105] Gather Application Information\n",
      "-  [AZT102] IP Discovery\n",
      "-  [AZT103] Public Accessible Resource\n",
      "-  [AZT104] Gather User Information\n",
      "-  [AZT108] Gather Victim Data\n",
      "-  [AZT101] Port Mapping\n",
      "-  [AZT106] Gather Role Information\n",
      "-  [AZT106.001] Gather AAD Role Information\n",
      "-  [AZT106.004] List Transitive Role Assignments\n",
      "-  [AZT106.003] Gather Azure Resources Role Assignments\n",
      "-  [AZT106.002] Gather Application Role Information\n",
      "-  [AZT107] Gather Resource Data\n",
      "-  [AZT202] Password Spraying\n",
      "-  [AZT203] Malicious Application Consent\n",
      "-  [AZT201] Valid Credentials\n",
      "-  [AZT201.002] Service Principal\n",
      "-  [AZT201.001] User Account\n",
      "-  [AZT301.005] AKS Command Invoke\n",
      "-  [AZT301.001] RunCommand\n",
      "-  [AZT301] Virtual Machine Scripting\n",
      "-  [AZT301.004] Compute Gallery Application\n",
      "-  [AZT301.003] Desired State Configuration\n",
      "-  [AZT301.007] Serial Console\n",
      "-  [AZT301.006] Vmss Run Command\n",
      "-  [AZT301.002] CustomScriptExtension\n",
      "-  [AZT302.002] Automation Account Runbook RunAs Account\n",
      "-  [AZT302.003] Automation Account Runbook Managed Identity\n",
      "-  [AZT302] Serverless Scripting\n",
      "-  [AZT302.004] Function Application\n",
      "-  [AZT302.001] Automation Account Runbook Hybrid Worker Group\n",
      "-  [AZT303] Managed Device Scripting\n",
      "-  [AZT401] Privileged Identity Management Role\n",
      "-  [AZT404.004] App Service\n",
      "-  [AZT404] Principal Impersonation\n",
      "-  [AZT404.001] Function Application\n",
      "-  [AZT404.002] Logic Application\n",
      "-  [AZT404.003] Automation Account\n",
      "-  [AZT403.001] Cloud Shell .IMG\n",
      "-  [AZT403] Local Resource Hijack\n",
      "-  [AZT402] Elevated Access Toggle\n",
      "-  [AZT405.001] Application API Permissions\n",
      "-  [AZT405] Azure AD Application\n",
      "-  [AZT405.003] Application Registration Owner\n",
      "-  [AZT405.002] Application Role\n",
      "-  [AZT503.003] Runbook Webhook\n",
      "-  [AZT503.002] Function App HTTP Trigger\n",
      "-  [AZT503.001] Logic Application HTTP Trigger\n",
      "-  [AZT503] HTTP Trigger\n",
      "-  [AZT503.004] WebJob\n",
      "-  [AZT504] Watcher Tasks\n",
      "-  [AZT505] Scheduled Jobs\n",
      "-  [AZT505.001] Scheduled Jobs\n",
      "-  [AZT502.002] Service Principal Creation\n",
      "-  [AZT502.003] Guest Account Creation\n",
      "-  [AZT502] Account Creation\n",
      "-  [AZT502.001] User Account Creation\n",
      "-  [AZT509] Azure Bastion\n",
      "-  [AZT507.001] Azure Lighthouse\n",
      "-  [AZT507.004] Domain Trust Modification\n",
      "-  [AZT507] External Entity Access\n",
      "-  [AZT507.003] Subscription Hijack\n",
      "-  [AZT507.002] Microsoft Partners\n",
      "-  [AZT501.001] User Account Manipulation\n",
      "-  [AZT501] Account Manipulation\n",
      "-  [AZT501.003] Azure VM Local Administrator Manipulation\n",
      "-  [AZT501.002] Service Principal Manipulation\n",
      "-  [AZT506] Network Security Group Modification\n",
      "-  [AZT508] Azure Policy\n",
      "-  [AZT603.001] Function App Settings\n",
      "-  [AZT603] Service Principal Secret Reveal\n",
      "-  [AZT604.001] Azure KeyVault Secret Dump\n",
      "-  [AZT604.003] Azure KeyVault Key Dump\n",
      "-  [AZT604] Azure KeyVault Dumping\n",
      "-  [AZT604.002] Azure KeyVault Certificate Dump\n",
      "-  [AZT605.001] Storage Account Access Key Dumping\n",
      "-  [AZT605] Resource Secret Reveal\n",
      "-  [AZT605.002] Automation Account Credential Secret Dump\n",
      "-  [AZT605.003] Resource Group Deployment History Secret Dump\n",
      "-  [AZT602.001] Automation Account RunAs Account\n",
      "-  [AZT602] Steal Service Principal Certificate\n",
      "-  [AZT601.002] Azure Kubernetes Service IMDS Request\n",
      "-  [AZT601.003] Logic Application JWT PUT Request\n",
      "-  [AZT601] Steal Managed Identity JsonWebToken\n",
      "-  [AZT601.004] Function Application JWT GET Request\n",
      "-  [AZT601.001] Virtual Machine IMDS Request\n",
      "-  [AZT601.005] Automation Account Runbook\n",
      "-  [AZT701.001] VM Disk SAS URI\n",
      "-  [AZT701.002] Storage Account File Share SAS\n",
      "-  [AZT701] SAS URI Generation\n",
      "-  [AZT704.003] Virtual Machine\n",
      "-  [AZT704.002] Storage Blob\n",
      "-  [AZT704] Soft-Delete Recovery\n",
      "-  [AZT704.001] Key Vault\n",
      "-  [AZT703] Replication\n",
      "-  [AZT703.001] Storage Account Replication\n",
      "-  [AZT702] File Share Mounting\n",
      "-  [AZT702.001] Storage Account File Share NFS/SMB Mount\n",
      "-  [AZT705] Azure Backup Delete\n"
     ]
    }
   ],
   "source": [
    "techniques = mitre_attack_data.get_techniques(remove_revoked_deprecated=True)\n",
    "print(f\"Retrieved {len(techniques)} ATRM techniques.\")\n",
    "for technique in techniques:\n",
    "    id = get_technique_id(technique)\n",
    "    print(f\"-  [{id}] {technique.name}\")"
   ]
  },
  {
   "cell_type": "markdown",
   "metadata": {},
   "source": [
    "# Get ATRM techniques by tactic name"
   ]
  },
  {
   "cell_type": "code",
   "execution_count": 4,
   "metadata": {},
   "outputs": [
    {
     "name": "stdout",
     "output_type": "stream",
     "text": [
      "Retrieved 14 ATRM execution techniques.\n",
      "-  [AZT301.005] AKS Command Invoke\n",
      "-  [AZT301.001] RunCommand\n",
      "-  [AZT301] Virtual Machine Scripting\n",
      "-  [AZT301.004] Compute Gallery Application\n",
      "-  [AZT301.003] Desired State Configuration\n",
      "-  [AZT301.007] Serial Console\n",
      "-  [AZT301.006] Vmss Run Command\n",
      "-  [AZT301.002] CustomScriptExtension\n",
      "-  [AZT302.002] Automation Account Runbook RunAs Account\n",
      "-  [AZT302.003] Automation Account Runbook Managed Identity\n",
      "-  [AZT302] Serverless Scripting\n",
      "-  [AZT302.004] Function Application\n",
      "-  [AZT302.001] Automation Account Runbook Hybrid Worker Group\n",
      "-  [AZT303] Managed Device Scripting\n"
     ]
    }
   ],
   "source": [
    "from constants import GET_ATRM_DOMAIN\n",
    "\n",
    "\n",
    "tactic = \"execution\"\n",
    "techniques = mitre_attack_data.get_techniques_by_tactic(tactic_shortname=tactic, domain=GET_ATRM_DOMAIN(), remove_revoked_deprecated=True)\n",
    "\n",
    "print(f\"Retrieved {len(techniques)} ATRM {tactic} techniques.\")\n",
    "for technique in techniques:\n",
    "    id = get_technique_id(technique)\n",
    "    print(f\"-  [{id}] {technique.name}\")"
   ]
  },
  {
   "cell_type": "markdown",
   "metadata": {},
   "source": [
    "# Get ATRM technique description by id"
   ]
  },
  {
   "cell_type": "code",
   "execution_count": 5,
   "metadata": {},
   "outputs": [
    {
     "name": "stdout",
     "output_type": "stream",
     "text": [
      "ATRM technique with ID = AZT303:\n",
      "\tName: Managed Device Scripting\n",
      "\tDescription: Adversaries may abuse access to any managed devices in AzureAD by executing PowerShell or Python scripts on them.\n"
     ]
    }
   ],
   "source": [
    "atrm_id = \"AZT303\"\n",
    "technique = mitre_attack_data.get_object_by_attack_id(attack_id=atrm_id, stix_type=\"attack-pattern\") \n",
    "\n",
    "print(f\"ATRM technique with ID = {atrm_id}:\")\n",
    "print(f\"\\tName: {technique.name}\")\n",
    "print(f\"\\tDescription: {technique.description}\")"
   ]
  },
  {
   "cell_type": "markdown",
   "metadata": {},
   "source": [
    "# Get last commit hash"
   ]
  },
  {
   "cell_type": "code",
   "execution_count": 1,
   "metadata": {},
   "outputs": [
    {
     "name": "stdout",
     "output_type": "stream",
     "text": [
      "9f05fef\n"
     ]
    }
   ],
   "source": [
    "from git_tools import get_last_commit_hash\n",
    "from constants import ATRM_PATH\n",
    "\n",
    "print(get_last_commit_hash(ATRM_PATH))\n"
   ]
  }
 ],
 "metadata": {
  "kernelspec": {
   "display_name": "atrm-stix-data",
   "language": "python",
   "name": "python3"
  },
  "language_info": {
   "codemirror_mode": {
    "name": "ipython",
    "version": 3
   },
   "file_extension": ".py",
   "mimetype": "text/x-python",
   "name": "python",
   "nbconvert_exporter": "python",
   "pygments_lexer": "ipython3",
   "version": "3.11.7"
  }
 },
 "nbformat": 4,
 "nbformat_minor": 2
}
